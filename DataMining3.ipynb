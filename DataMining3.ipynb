{
  "nbformat": 4,
  "nbformat_minor": 0,
  "metadata": {
    "colab": {
      "provenance": []
    },
    "kernelspec": {
      "name": "python3",
      "display_name": "Python 3"
    },
    "language_info": {
      "name": "python"
    }
  },
  "cells": [
    {
      "cell_type": "code",
      "source": [
        "import numpy as np\n",
        "import matplotlib.pyplot as plt\n",
        "import pandas as pd"
      ],
      "metadata": {
        "id": "Ge8RtTcKKZoZ"
      },
      "execution_count": 5,
      "outputs": []
    },
    {
      "cell_type": "code",
      "source": [
        "dataset = pd.read_csv('Data.csv')\n",
        "x = dataset.iloc[:, :-1].values\n",
        "y = dataset.iloc[:, -1].values"
      ],
      "metadata": {
        "id": "3NwcEEJUKgBz"
      },
      "execution_count": 6,
      "outputs": []
    },
    {
      "cell_type": "code",
      "source": [
        "print(x)"
      ],
      "metadata": {
        "colab": {
          "base_uri": "https://localhost:8080/"
        },
        "id": "yQkImVwCKmUh",
        "outputId": "18c580b5-ec5d-4c2f-8b12-c15f84bfa579"
      },
      "execution_count": 7,
      "outputs": [
        {
          "output_type": "stream",
          "name": "stdout",
          "text": [
            "[['Indonesia' 34.0 22000.0]\n",
            " ['Malaysia' 27.0 48000.0]\n",
            " ['jepang' 20.0 54000.0]\n",
            " ['Malaysia' 28.0 61000.0]\n",
            " ['jepang' 50.0 nan]\n",
            " ['Indonesia' 25.0 52000.0]\n",
            " ['Malaysia' nan 35000.0]\n",
            " ['Indonesia' 28.0 49000.0]\n",
            " ['jepang' 50.0 83000.0]\n",
            " ['Indonesia' 37.0 67000.0]]\n"
          ]
        }
      ]
    },
    {
      "cell_type": "code",
      "source": [
        "print(y)"
      ],
      "metadata": {
        "colab": {
          "base_uri": "https://localhost:8080/"
        },
        "id": "lPgF3mT1KplS",
        "outputId": "282bae56-709b-4698-ca3a-c103b22cc00e"
      },
      "execution_count": 8,
      "outputs": [
        {
          "output_type": "stream",
          "name": "stdout",
          "text": [
            "['No' 'Yes' 'No' 'No' 'Yes' 'Yes' 'No' 'Yes' 'No' 'Yes']\n"
          ]
        }
      ]
    },
    {
      "cell_type": "code",
      "source": [
        "from sklearn.impute import SimpleImputer\n",
        "imputer = SimpleImputer(missing_values=np.nan, strategy='mean')\n",
        "imputer.fit(x[:, 1:3])\n",
        "x[:, 1:3] = imputer.transform(x[:, 1:3])"
      ],
      "metadata": {
        "id": "TvrvfdXXKscQ"
      },
      "execution_count": 9,
      "outputs": []
    },
    {
      "cell_type": "code",
      "source": [
        "print(x)"
      ],
      "metadata": {
        "colab": {
          "base_uri": "https://localhost:8080/"
        },
        "id": "KsuIzEWeK887",
        "outputId": "9093bcf1-916c-492b-a73e-3de83b096daf"
      },
      "execution_count": 10,
      "outputs": [
        {
          "output_type": "stream",
          "name": "stdout",
          "text": [
            "[['Indonesia' 34.0 22000.0]\n",
            " ['Malaysia' 27.0 48000.0]\n",
            " ['jepang' 20.0 54000.0]\n",
            " ['Malaysia' 28.0 61000.0]\n",
            " ['jepang' 50.0 52333.333333333336]\n",
            " ['Indonesia' 25.0 52000.0]\n",
            " ['Malaysia' 33.22222222222222 35000.0]\n",
            " ['Indonesia' 28.0 49000.0]\n",
            " ['jepang' 50.0 83000.0]\n",
            " ['Indonesia' 37.0 67000.0]]\n"
          ]
        }
      ]
    },
    {
      "cell_type": "code",
      "source": [
        "from sklearn.compose import ColumnTransformer\n",
        "from sklearn.preprocessing import OneHotEncoder\n",
        "ct = ColumnTransformer(transformers=[('encoder',OneHotEncoder(),[0])],remainder='passthrough')\n",
        "x = np.array(ct.fit_transform(x))"
      ],
      "metadata": {
        "id": "iPNW1_sQLH7a"
      },
      "execution_count": 11,
      "outputs": []
    },
    {
      "cell_type": "code",
      "source": [
        "print(x)"
      ],
      "metadata": {
        "colab": {
          "base_uri": "https://localhost:8080/"
        },
        "id": "n-fx7RCPMMlQ",
        "outputId": "650c6bbd-c257-40b5-fd34-2f840428cad8"
      },
      "execution_count": 12,
      "outputs": [
        {
          "output_type": "stream",
          "name": "stdout",
          "text": [
            "[[1.0 0.0 0.0 34.0 22000.0]\n",
            " [0.0 1.0 0.0 27.0 48000.0]\n",
            " [0.0 0.0 1.0 20.0 54000.0]\n",
            " [0.0 1.0 0.0 28.0 61000.0]\n",
            " [0.0 0.0 1.0 50.0 52333.333333333336]\n",
            " [1.0 0.0 0.0 25.0 52000.0]\n",
            " [0.0 1.0 0.0 33.22222222222222 35000.0]\n",
            " [1.0 0.0 0.0 28.0 49000.0]\n",
            " [0.0 0.0 1.0 50.0 83000.0]\n",
            " [1.0 0.0 0.0 37.0 67000.0]]\n"
          ]
        }
      ]
    },
    {
      "cell_type": "code",
      "source": [
        "from sklearn.preprocessing import LabelEncoder\n",
        "le = LabelEncoder()\n",
        "y = le.fit_transform(y)"
      ],
      "metadata": {
        "id": "nghHFDYkMqS8"
      },
      "execution_count": 15,
      "outputs": []
    },
    {
      "cell_type": "code",
      "source": [
        "print(y)"
      ],
      "metadata": {
        "colab": {
          "base_uri": "https://localhost:8080/"
        },
        "id": "Ib0GVCC_NEH5",
        "outputId": "3cebe42f-5576-47a7-9c6f-7913fea1b4d7"
      },
      "execution_count": 16,
      "outputs": [
        {
          "output_type": "stream",
          "name": "stdout",
          "text": [
            "[0 1 0 0 1 1 0 1 0 1]\n"
          ]
        }
      ]
    },
    {
      "cell_type": "code",
      "source": [
        "from sklearn.model_selection import train_test_split\n",
        "x_train,x_test,y_train,y_test = train_test_split(x,y,test_size=0.2,random_state=1)"
      ],
      "metadata": {
        "id": "FU5oYnG8NphS"
      },
      "execution_count": 26,
      "outputs": []
    },
    {
      "cell_type": "code",
      "source": [
        "print(x_train)"
      ],
      "metadata": {
        "colab": {
          "base_uri": "https://localhost:8080/"
        },
        "id": "pv8UFq3PNz9m",
        "outputId": "bf539b11-3ae2-44f4-bb6e-171675b1dd94"
      },
      "execution_count": 18,
      "outputs": [
        {
          "output_type": "stream",
          "name": "stdout",
          "text": [
            "[[0.0 1.0 0.0 33.22222222222222 35000.0]\n",
            " [0.0 0.0 1.0 50.0 52333.333333333336]\n",
            " [1.0 0.0 0.0 34.0 22000.0]\n",
            " [0.0 1.0 0.0 28.0 61000.0]\n",
            " [0.0 1.0 0.0 27.0 48000.0]\n",
            " [1.0 0.0 0.0 28.0 49000.0]\n",
            " [0.0 0.0 1.0 50.0 83000.0]\n",
            " [1.0 0.0 0.0 25.0 52000.0]]\n"
          ]
        }
      ]
    },
    {
      "cell_type": "code",
      "source": [
        "print(y_train)"
      ],
      "metadata": {
        "colab": {
          "base_uri": "https://localhost:8080/"
        },
        "id": "9KI7Dg49N6D_",
        "outputId": "cb9a9a07-8b82-4f81-8326-d03e10dcaf30"
      },
      "execution_count": 22,
      "outputs": [
        {
          "output_type": "stream",
          "name": "stdout",
          "text": [
            "[0 1]\n"
          ]
        }
      ]
    },
    {
      "cell_type": "code",
      "source": [
        "print(x_test)"
      ],
      "metadata": {
        "colab": {
          "base_uri": "https://localhost:8080/"
        },
        "id": "_W_DI4XHN9Gh",
        "outputId": "6c37267e-6ac8-4428-a570-8f9843a63be6"
      },
      "execution_count": 23,
      "outputs": [
        {
          "output_type": "stream",
          "name": "stdout",
          "text": [
            "[[0.0 0.0 1.0 20.0 54000.0]\n",
            " [1.0 0.0 0.0 37.0 67000.0]]\n"
          ]
        }
      ]
    },
    {
      "cell_type": "code",
      "source": [
        "print(y_test)"
      ],
      "metadata": {
        "colab": {
          "base_uri": "https://localhost:8080/"
        },
        "id": "I_U50inoOTGy",
        "outputId": "71536f9e-080c-40db-b048-3b6d95ff9c1b"
      },
      "execution_count": 27,
      "outputs": [
        {
          "output_type": "stream",
          "name": "stdout",
          "text": [
            "[0 1]\n"
          ]
        }
      ]
    },
    {
      "cell_type": "code",
      "source": [
        "from sklearn.preprocessing import StandardScaler\n",
        "sc = StandardScaler()\n",
        "x_train[:,3:] = sc.fit_transform(x_train[:,3:])\n",
        "x_test[:,3:] = sc.transform(x_test[:,3:])"
      ],
      "metadata": {
        "id": "0w5n3pRrOdTC"
      },
      "execution_count": 28,
      "outputs": []
    },
    {
      "cell_type": "code",
      "source": [
        "print(x_train)"
      ],
      "metadata": {
        "colab": {
          "base_uri": "https://localhost:8080/"
        },
        "id": "_1nQKdSxPCiy",
        "outputId": "78d4e664-c6aa-4867-8acb-eb0eb4295aea"
      },
      "execution_count": 29,
      "outputs": [
        {
          "output_type": "stream",
          "name": "stdout",
          "text": [
            "[[0.0 1.0 0.0 -0.12502393096223327 -0.9153315167018385]\n",
            " [0.0 0.0 1.0 1.6517867584775032 0.12221047498198917]\n",
            " [1.0 0.0 0.0 -0.04265522350476197 -1.6934880104647092]\n",
            " [0.0 1.0 0.0 -0.6780709667481114 0.6409814708239028]\n",
            " [0.0 1.0 0.0 -0.783973590622003 -0.13717502293896788]\n",
            " [1.0 0.0 0.0 -0.6780709667481114 -0.07731683111105475]\n",
            " [0.0 0.0 1.0 1.6517867584775032 1.9578616910379918]\n",
            " [1.0 0.0 0.0 -0.9957788383697862 0.10225774437268464]]\n"
          ]
        }
      ]
    },
    {
      "cell_type": "code",
      "source": [
        "print(x_test)"
      ],
      "metadata": {
        "colab": {
          "base_uri": "https://localhost:8080/"
        },
        "id": "qsJaDmfnPG-6",
        "outputId": "f57dba6e-669a-44da-bf4b-a74363ac433a"
      },
      "execution_count": 30,
      "outputs": [
        {
          "output_type": "stream",
          "name": "stdout",
          "text": [
            "[[0.0 0.0 1.0 -1.525291957739244 0.2219741280285109]\n",
            " [1.0 0.0 0.0 0.27505264811691277 1.0001306217913817]]\n"
          ]
        }
      ]
    }
  ]
}